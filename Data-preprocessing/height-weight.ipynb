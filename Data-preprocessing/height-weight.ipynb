{
 "cells": [
  {
   "cell_type": "code",
   "execution_count": 1,
   "metadata": {},
   "outputs": [],
   "source": [
    "import numpy as np\n",
    "import matplotlib.pyplot as plt\n",
    "import pandas as pd\n",
    "%matplotlib inline"
   ]
  },
  {
   "cell_type": "markdown",
   "metadata": {},
   "source": [
    "- load dataset height-weight.csv\n",
    "- understand the data using describe"
   ]
  },
  {
   "cell_type": "code",
   "execution_count": 39,
   "metadata": {},
   "outputs": [
    {
     "data": {
      "text/plain": [
       "(67.94979999999998, 1.9355056083618047)"
      ]
     },
     "execution_count": 39,
     "metadata": {},
     "output_type": "execute_result"
    }
   ],
   "source": [
    "mn, std"
   ]
  },
  {
   "cell_type": "code",
   "execution_count": 6,
   "metadata": {},
   "outputs": [
    {
     "data": {
      "text/plain": [
       "0      65.78\n",
       "1      71.52\n",
       "2      69.40\n",
       "3      68.22\n",
       "4      67.79\n",
       "5      68.70\n",
       "6      69.80\n",
       "7      70.01\n",
       "8      67.90\n",
       "9      66.78\n",
       "10     66.49\n",
       "11     67.62\n",
       "12     68.30\n",
       "13     67.12\n",
       "14     68.28\n",
       "15     71.09\n",
       "16     66.46\n",
       "17     68.65\n",
       "18     71.23\n",
       "19     67.13\n",
       "20     67.83\n",
       "21     68.88\n",
       "22     63.48\n",
       "23     68.42\n",
       "24     67.63\n",
       "25     67.21\n",
       "26     70.84\n",
       "27     67.49\n",
       "28     66.53\n",
       "29     65.44\n",
       "       ...  \n",
       "170    69.43\n",
       "171    67.97\n",
       "172    67.76\n",
       "173    65.28\n",
       "174    73.83\n",
       "175    66.81\n",
       "176    66.89\n",
       "177    65.74\n",
       "178    65.98\n",
       "179    66.58\n",
       "180    67.11\n",
       "181    65.87\n",
       "182    66.78\n",
       "183    68.74\n",
       "184    66.23\n",
       "185    65.96\n",
       "186    68.58\n",
       "187    66.59\n",
       "188    66.97\n",
       "189    68.08\n",
       "190    70.19\n",
       "191    65.52\n",
       "192    67.46\n",
       "193    67.41\n",
       "194    69.66\n",
       "195    65.80\n",
       "196    66.11\n",
       "197    68.24\n",
       "198    68.02\n",
       "199    71.39\n",
       "Name: Height(Inches), Length: 200, dtype: float64"
      ]
     },
     "execution_count": 6,
     "metadata": {},
     "output_type": "execute_result"
    }
   ],
   "source": [
    "dataset['Height(Inches)']"
   ]
  },
  {
   "cell_type": "markdown",
   "metadata": {},
   "source": [
    "- figure out the mean of heights"
   ]
  },
  {
   "cell_type": "code",
   "execution_count": null,
   "metadata": {},
   "outputs": [],
   "source": []
  },
  {
   "cell_type": "markdown",
   "metadata": {},
   "source": [
    "- figure out the std of heights"
   ]
  },
  {
   "cell_type": "code",
   "execution_count": null,
   "metadata": {},
   "outputs": [],
   "source": []
  },
  {
   "cell_type": "markdown",
   "metadata": {},
   "source": [
    "- plot a histogram of heights\n",
    "- draw verticle lines for mean 1 std, 2 std and 3 std"
   ]
  },
  {
   "cell_type": "code",
   "execution_count": null,
   "metadata": {},
   "outputs": [],
   "source": []
  }
 ],
 "metadata": {
  "kernelspec": {
   "display_name": "Python 3",
   "language": "python",
   "name": "python3"
  },
  "language_info": {
   "codemirror_mode": {
    "name": "ipython",
    "version": 3
   },
   "file_extension": ".py",
   "mimetype": "text/x-python",
   "name": "python",
   "nbconvert_exporter": "python",
   "pygments_lexer": "ipython3",
   "version": "3.6.5"
  },
  "varInspector": {
   "cols": {
    "lenName": 16,
    "lenType": 16,
    "lenVar": 40
   },
   "kernels_config": {
    "python": {
     "delete_cmd_postfix": "",
     "delete_cmd_prefix": "del ",
     "library": "var_list.py",
     "varRefreshCmd": "print(var_dic_list())"
    },
    "r": {
     "delete_cmd_postfix": ") ",
     "delete_cmd_prefix": "rm(",
     "library": "var_list.r",
     "varRefreshCmd": "cat(var_dic_list()) "
    }
   },
   "types_to_exclude": [
    "module",
    "function",
    "builtin_function_or_method",
    "instance",
    "_Feature"
   ],
   "window_display": false
  }
 },
 "nbformat": 4,
 "nbformat_minor": 2
}
