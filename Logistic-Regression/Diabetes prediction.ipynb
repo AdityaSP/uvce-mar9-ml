{
 "cells": [
  {
   "cell_type": "code",
   "execution_count": 8,
   "metadata": {},
   "outputs": [],
   "source": [
    "%matplotlib inline\n",
    "import numpy as np\n",
    "import pandas as pd\n",
    "import matplotlib.pyplot as plt"
   ]
  },
  {
   "cell_type": "code",
   "execution_count": 9,
   "metadata": {},
   "outputs": [],
   "source": [
    "df = pd.read_csv('diabetes_data_train_710samples.csv')"
   ]
  },
  {
   "cell_type": "code",
   "execution_count": null,
   "metadata": {},
   "outputs": [],
   "source": []
  },
  {
   "cell_type": "code",
   "execution_count": 3,
   "metadata": {},
   "outputs": [
    {
     "data": {
      "text/html": [
       "<div>\n",
       "<style scoped>\n",
       "    .dataframe tbody tr th:only-of-type {\n",
       "        vertical-align: middle;\n",
       "    }\n",
       "\n",
       "    .dataframe tbody tr th {\n",
       "        vertical-align: top;\n",
       "    }\n",
       "\n",
       "    .dataframe thead th {\n",
       "        text-align: right;\n",
       "    }\n",
       "</style>\n",
       "<table border=\"1\" class=\"dataframe\">\n",
       "  <thead>\n",
       "    <tr style=\"text-align: right;\">\n",
       "      <th></th>\n",
       "      <th>Row</th>\n",
       "      <th>preg_count</th>\n",
       "      <th>glucose_concentration</th>\n",
       "      <th>diastolic_bp</th>\n",
       "      <th>triceps_skin_fold_thickness</th>\n",
       "      <th>two_hr_serum_insulin</th>\n",
       "      <th>bmi</th>\n",
       "      <th>diabetes_pedi</th>\n",
       "      <th>age</th>\n",
       "      <th>diabetes_class</th>\n",
       "    </tr>\n",
       "  </thead>\n",
       "  <tbody>\n",
       "    <tr>\n",
       "      <th>0</th>\n",
       "      <td>0</td>\n",
       "      <td>6</td>\n",
       "      <td>148</td>\n",
       "      <td>72</td>\n",
       "      <td>35</td>\n",
       "      <td>0</td>\n",
       "      <td>33.6</td>\n",
       "      <td>0.627</td>\n",
       "      <td>50</td>\n",
       "      <td>1</td>\n",
       "    </tr>\n",
       "    <tr>\n",
       "      <th>1</th>\n",
       "      <td>1</td>\n",
       "      <td>1</td>\n",
       "      <td>85</td>\n",
       "      <td>66</td>\n",
       "      <td>29</td>\n",
       "      <td>0</td>\n",
       "      <td>26.6</td>\n",
       "      <td>0.351</td>\n",
       "      <td>31</td>\n",
       "      <td>0</td>\n",
       "    </tr>\n",
       "  </tbody>\n",
       "</table>\n",
       "</div>"
      ],
      "text/plain": [
       "   Row  preg_count  glucose_concentration  diastolic_bp  \\\n",
       "0    0           6                    148            72   \n",
       "1    1           1                     85            66   \n",
       "\n",
       "   triceps_skin_fold_thickness  two_hr_serum_insulin   bmi  diabetes_pedi  \\\n",
       "0                           35                     0  33.6          0.627   \n",
       "1                           29                     0  26.6          0.351   \n",
       "\n",
       "   age  diabetes_class  \n",
       "0   50               1  \n",
       "1   31               0  "
      ]
     },
     "execution_count": 3,
     "metadata": {},
     "output_type": "execute_result"
    }
   ],
   "source": [
    "df.head(2)"
   ]
  },
  {
   "cell_type": "code",
   "execution_count": 6,
   "metadata": {},
   "outputs": [
    {
     "data": {
      "text/plain": [
       "Row                           -0.011381\n",
       "preg_count                     0.142042\n",
       "glucose_concentration          0.146026\n",
       "diastolic_bp                   1.000000\n",
       "triceps_skin_fold_thickness    0.211979\n",
       "two_hr_serum_insulin           0.101921\n",
       "bmi                            0.279390\n",
       "diabetes_pedi                  0.040030\n",
       "age                            0.237515\n",
       "diabetes_class                 0.058391\n",
       "dtype: float64"
      ]
     },
     "execution_count": 6,
     "metadata": {},
     "output_type": "execute_result"
    }
   ],
   "source": [
    "df.corrwith(df['diastolic_bp'])"
   ]
  },
  {
   "cell_type": "code",
   "execution_count": 7,
   "metadata": {},
   "outputs": [
    {
     "name": "stdout",
     "output_type": "stream",
     "text": [
      "<class 'pandas.core.frame.DataFrame'>\n",
      "RangeIndex: 710 entries, 0 to 709\n",
      "Data columns (total 10 columns):\n",
      "Row                            710 non-null int64\n",
      "preg_count                     710 non-null int64\n",
      "glucose_concentration          710 non-null int64\n",
      "diastolic_bp                   710 non-null int64\n",
      "triceps_skin_fold_thickness    710 non-null int64\n",
      "two_hr_serum_insulin           710 non-null int64\n",
      "bmi                            710 non-null float64\n",
      "diabetes_pedi                  710 non-null float64\n",
      "age                            710 non-null int64\n",
      "diabetes_class                 710 non-null int64\n",
      "dtypes: float64(2), int64(8)\n",
      "memory usage: 55.5 KB\n"
     ]
    }
   ],
   "source": [
    "df.info()"
   ]
  },
  {
   "cell_type": "markdown",
   "metadata": {},
   "source": [
    "### Feature and target"
   ]
  },
  {
   "cell_type": "code",
   "execution_count": 8,
   "metadata": {},
   "outputs": [
    {
     "data": {
      "text/plain": [
       "Index(['Row', 'preg_count', 'glucose_concentration', 'diastolic_bp',\n",
       "       'triceps_skin_fold_thickness', 'two_hr_serum_insulin', 'bmi',\n",
       "       'diabetes_pedi', 'age', 'diabetes_class'],\n",
       "      dtype='object')"
      ]
     },
     "execution_count": 8,
     "metadata": {},
     "output_type": "execute_result"
    }
   ],
   "source": [
    "df.columns"
   ]
  },
  {
   "cell_type": "code",
   "execution_count": 10,
   "metadata": {},
   "outputs": [],
   "source": [
    "X = df[['preg_count', 'glucose_concentration', 'diastolic_bp',\n",
    "       'triceps_skin_fold_thickness', 'two_hr_serum_insulin', 'bmi',\n",
    "       'diabetes_pedi', 'age']]\n",
    "y = df['diabetes_class']"
   ]
  },
  {
   "cell_type": "code",
   "execution_count": 63,
   "metadata": {},
   "outputs": [
    {
     "data": {
      "text/html": [
       "<div>\n",
       "<style scoped>\n",
       "    .dataframe tbody tr th:only-of-type {\n",
       "        vertical-align: middle;\n",
       "    }\n",
       "\n",
       "    .dataframe tbody tr th {\n",
       "        vertical-align: top;\n",
       "    }\n",
       "\n",
       "    .dataframe thead th {\n",
       "        text-align: right;\n",
       "    }\n",
       "</style>\n",
       "<table border=\"1\" class=\"dataframe\">\n",
       "  <thead>\n",
       "    <tr style=\"text-align: right;\">\n",
       "      <th></th>\n",
       "      <th>Row</th>\n",
       "      <th>preg_count</th>\n",
       "      <th>glucose_concentration</th>\n",
       "      <th>diastolic_bp</th>\n",
       "      <th>triceps_skin_fold_thickness</th>\n",
       "      <th>two_hr_serum_insulin</th>\n",
       "      <th>bmi</th>\n",
       "      <th>diabetes_pedi</th>\n",
       "      <th>age</th>\n",
       "      <th>diabetes_class</th>\n",
       "    </tr>\n",
       "  </thead>\n",
       "  <tbody>\n",
       "    <tr>\n",
       "      <th>Row</th>\n",
       "      <td>1.000000</td>\n",
       "      <td>-0.049529</td>\n",
       "      <td>-0.003177</td>\n",
       "      <td>-0.011381</td>\n",
       "      <td>0.003161</td>\n",
       "      <td>0.005083</td>\n",
       "      <td>-0.012753</td>\n",
       "      <td>-0.030718</td>\n",
       "      <td>-0.007847</td>\n",
       "      <td>-0.063441</td>\n",
       "    </tr>\n",
       "    <tr>\n",
       "      <th>preg_count</th>\n",
       "      <td>-0.049529</td>\n",
       "      <td>1.000000</td>\n",
       "      <td>0.137212</td>\n",
       "      <td>0.142042</td>\n",
       "      <td>-0.096404</td>\n",
       "      <td>-0.069093</td>\n",
       "      <td>0.020589</td>\n",
       "      <td>-0.048586</td>\n",
       "      <td>0.546881</td>\n",
       "      <td>0.230506</td>\n",
       "    </tr>\n",
       "    <tr>\n",
       "      <th>glucose_concentration</th>\n",
       "      <td>-0.003177</td>\n",
       "      <td>0.137212</td>\n",
       "      <td>1.000000</td>\n",
       "      <td>0.146026</td>\n",
       "      <td>0.055279</td>\n",
       "      <td>0.327807</td>\n",
       "      <td>0.220797</td>\n",
       "      <td>0.139026</td>\n",
       "      <td>0.277794</td>\n",
       "      <td>0.458086</td>\n",
       "    </tr>\n",
       "    <tr>\n",
       "      <th>diastolic_bp</th>\n",
       "      <td>-0.011381</td>\n",
       "      <td>0.142042</td>\n",
       "      <td>0.146026</td>\n",
       "      <td>1.000000</td>\n",
       "      <td>0.211979</td>\n",
       "      <td>0.101921</td>\n",
       "      <td>0.279390</td>\n",
       "      <td>0.040030</td>\n",
       "      <td>0.237515</td>\n",
       "      <td>0.058391</td>\n",
       "    </tr>\n",
       "    <tr>\n",
       "      <th>triceps_skin_fold_thickness</th>\n",
       "      <td>0.003161</td>\n",
       "      <td>-0.096404</td>\n",
       "      <td>0.055279</td>\n",
       "      <td>0.211979</td>\n",
       "      <td>1.000000</td>\n",
       "      <td>0.440467</td>\n",
       "      <td>0.385673</td>\n",
       "      <td>0.181029</td>\n",
       "      <td>-0.116000</td>\n",
       "      <td>0.084880</td>\n",
       "    </tr>\n",
       "    <tr>\n",
       "      <th>two_hr_serum_insulin</th>\n",
       "      <td>0.005083</td>\n",
       "      <td>-0.069093</td>\n",
       "      <td>0.327807</td>\n",
       "      <td>0.101921</td>\n",
       "      <td>0.440467</td>\n",
       "      <td>1.000000</td>\n",
       "      <td>0.200392</td>\n",
       "      <td>0.189800</td>\n",
       "      <td>-0.026111</td>\n",
       "      <td>0.137614</td>\n",
       "    </tr>\n",
       "    <tr>\n",
       "      <th>bmi</th>\n",
       "      <td>-0.012753</td>\n",
       "      <td>0.020589</td>\n",
       "      <td>0.220797</td>\n",
       "      <td>0.279390</td>\n",
       "      <td>0.385673</td>\n",
       "      <td>0.200392</td>\n",
       "      <td>1.000000</td>\n",
       "      <td>0.138409</td>\n",
       "      <td>0.036475</td>\n",
       "      <td>0.291296</td>\n",
       "    </tr>\n",
       "    <tr>\n",
       "      <th>diabetes_pedi</th>\n",
       "      <td>-0.030718</td>\n",
       "      <td>-0.048586</td>\n",
       "      <td>0.139026</td>\n",
       "      <td>0.040030</td>\n",
       "      <td>0.181029</td>\n",
       "      <td>0.189800</td>\n",
       "      <td>0.138409</td>\n",
       "      <td>1.000000</td>\n",
       "      <td>0.036862</td>\n",
       "      <td>0.172729</td>\n",
       "    </tr>\n",
       "    <tr>\n",
       "      <th>age</th>\n",
       "      <td>-0.007847</td>\n",
       "      <td>0.546881</td>\n",
       "      <td>0.277794</td>\n",
       "      <td>0.237515</td>\n",
       "      <td>-0.116000</td>\n",
       "      <td>-0.026111</td>\n",
       "      <td>0.036475</td>\n",
       "      <td>0.036862</td>\n",
       "      <td>1.000000</td>\n",
       "      <td>0.231088</td>\n",
       "    </tr>\n",
       "    <tr>\n",
       "      <th>diabetes_class</th>\n",
       "      <td>-0.063441</td>\n",
       "      <td>0.230506</td>\n",
       "      <td>0.458086</td>\n",
       "      <td>0.058391</td>\n",
       "      <td>0.084880</td>\n",
       "      <td>0.137614</td>\n",
       "      <td>0.291296</td>\n",
       "      <td>0.172729</td>\n",
       "      <td>0.231088</td>\n",
       "      <td>1.000000</td>\n",
       "    </tr>\n",
       "  </tbody>\n",
       "</table>\n",
       "</div>"
      ],
      "text/plain": [
       "                                  Row  preg_count  glucose_concentration  \\\n",
       "Row                          1.000000   -0.049529              -0.003177   \n",
       "preg_count                  -0.049529    1.000000               0.137212   \n",
       "glucose_concentration       -0.003177    0.137212               1.000000   \n",
       "diastolic_bp                -0.011381    0.142042               0.146026   \n",
       "triceps_skin_fold_thickness  0.003161   -0.096404               0.055279   \n",
       "two_hr_serum_insulin         0.005083   -0.069093               0.327807   \n",
       "bmi                         -0.012753    0.020589               0.220797   \n",
       "diabetes_pedi               -0.030718   -0.048586               0.139026   \n",
       "age                         -0.007847    0.546881               0.277794   \n",
       "diabetes_class              -0.063441    0.230506               0.458086   \n",
       "\n",
       "                             diastolic_bp  triceps_skin_fold_thickness  \\\n",
       "Row                             -0.011381                     0.003161   \n",
       "preg_count                       0.142042                    -0.096404   \n",
       "glucose_concentration            0.146026                     0.055279   \n",
       "diastolic_bp                     1.000000                     0.211979   \n",
       "triceps_skin_fold_thickness      0.211979                     1.000000   \n",
       "two_hr_serum_insulin             0.101921                     0.440467   \n",
       "bmi                              0.279390                     0.385673   \n",
       "diabetes_pedi                    0.040030                     0.181029   \n",
       "age                              0.237515                    -0.116000   \n",
       "diabetes_class                   0.058391                     0.084880   \n",
       "\n",
       "                             two_hr_serum_insulin       bmi  diabetes_pedi  \\\n",
       "Row                                      0.005083 -0.012753      -0.030718   \n",
       "preg_count                              -0.069093  0.020589      -0.048586   \n",
       "glucose_concentration                    0.327807  0.220797       0.139026   \n",
       "diastolic_bp                             0.101921  0.279390       0.040030   \n",
       "triceps_skin_fold_thickness              0.440467  0.385673       0.181029   \n",
       "two_hr_serum_insulin                     1.000000  0.200392       0.189800   \n",
       "bmi                                      0.200392  1.000000       0.138409   \n",
       "diabetes_pedi                            0.189800  0.138409       1.000000   \n",
       "age                                     -0.026111  0.036475       0.036862   \n",
       "diabetes_class                           0.137614  0.291296       0.172729   \n",
       "\n",
       "                                  age  diabetes_class  \n",
       "Row                         -0.007847       -0.063441  \n",
       "preg_count                   0.546881        0.230506  \n",
       "glucose_concentration        0.277794        0.458086  \n",
       "diastolic_bp                 0.237515        0.058391  \n",
       "triceps_skin_fold_thickness -0.116000        0.084880  \n",
       "two_hr_serum_insulin        -0.026111        0.137614  \n",
       "bmi                          0.036475        0.291296  \n",
       "diabetes_pedi                0.036862        0.172729  \n",
       "age                          1.000000        0.231088  \n",
       "diabetes_class               0.231088        1.000000  "
      ]
     },
     "execution_count": 63,
     "metadata": {},
     "output_type": "execute_result"
    }
   ],
   "source": [
    "df.corr()"
   ]
  },
  {
   "cell_type": "markdown",
   "metadata": {},
   "source": [
    "### Split into test and train"
   ]
  },
  {
   "cell_type": "code",
   "execution_count": 11,
   "metadata": {},
   "outputs": [],
   "source": [
    "from sklearn.model_selection import train_test_split\n",
    "X_train, X_test, y_train, y_test = train_test_split(X, y, test_size=0.3, random_state=101)"
   ]
  },
  {
   "cell_type": "code",
   "execution_count": 12,
   "metadata": {},
   "outputs": [
    {
     "data": {
      "text/plain": [
       "LogisticRegression(C=1.0, class_weight=None, dual=False, fit_intercept=True,\n",
       "          intercept_scaling=1, max_iter=100, multi_class='ovr', n_jobs=1,\n",
       "          penalty='l2', random_state=None, solver='liblinear', tol=0.0001,\n",
       "          verbose=0, warm_start=False)"
      ]
     },
     "execution_count": 12,
     "metadata": {},
     "output_type": "execute_result"
    }
   ],
   "source": [
    "from sklearn.linear_model import LogisticRegression\n",
    "logr = LogisticRegression(solver='liblinear')\n",
    "logr.fit(X_train, y_train)"
   ]
  },
  {
   "cell_type": "code",
   "execution_count": 13,
   "metadata": {},
   "outputs": [
    {
     "data": {
      "text/plain": [
       "KNeighborsClassifier(algorithm='auto', leaf_size=30, metric='minkowski',\n",
       "           metric_params=None, n_jobs=1, n_neighbors=5, p=2,\n",
       "           weights='uniform')"
      ]
     },
     "execution_count": 13,
     "metadata": {},
     "output_type": "execute_result"
    }
   ],
   "source": [
    "from sklearn.neighbors import KNeighborsClassifier\n",
    "knn = KNeighborsClassifier()\n",
    "knn.fit(X_train,y_train)"
   ]
  },
  {
   "cell_type": "code",
   "execution_count": 15,
   "metadata": {},
   "outputs": [],
   "source": [
    "from sklearn.naive_bayes import MultinomialNB"
   ]
  },
  {
   "cell_type": "code",
   "execution_count": 16,
   "metadata": {},
   "outputs": [
    {
     "name": "stdout",
     "output_type": "stream",
     "text": [
      "Acc:  0.6619718309859155\n",
      "Acc:  0.755868544600939\n",
      "Acc:  0.6619718309859155\n"
     ]
    }
   ],
   "source": [
    "algos = [KNeighborsClassifier(), LogisticRegression(), MultinomialNB()]\n",
    "for algo in algos:\n",
    "    algo.fit(X_train,y_train)\n",
    "    y_algo_pred=algo.predict(X_test)\n",
    "    print(\"Acc: \", sum(y_algo_pred==y_test)/len(y_test))"
   ]
  },
  {
   "cell_type": "code",
   "execution_count": 86,
   "metadata": {},
   "outputs": [],
   "source": [
    "y_knn_pred = knn.predict(X_test)"
   ]
  },
  {
   "cell_type": "code",
   "execution_count": 87,
   "metadata": {},
   "outputs": [
    {
     "data": {
      "text/plain": [
       "0.6619718309859155"
      ]
     },
     "execution_count": 87,
     "metadata": {},
     "output_type": "execute_result"
    }
   ],
   "source": [
    "sum(y_test == y_knn_pred)/len(y_test)"
   ]
  },
  {
   "cell_type": "code",
   "execution_count": 66,
   "metadata": {},
   "outputs": [
    {
     "data": {
      "text/plain": [
       "array([0, 0, 0, 0, 0], dtype=int64)"
      ]
     },
     "execution_count": 66,
     "metadata": {},
     "output_type": "execute_result"
    }
   ],
   "source": [
    "y_pred = logr.predict(X_test)\n",
    "y_pred[:5]"
   ]
  },
  {
   "cell_type": "code",
   "execution_count": 71,
   "metadata": {},
   "outputs": [
    {
     "data": {
      "text/plain": [
       "(array([[ 1.08255884e-01,  2.65746916e-02, -1.64993845e-02,\n",
       "          2.17468908e-03, -6.66851663e-04,  4.51539755e-02,\n",
       "          7.31051069e-01,  9.16850278e-03]]), array([-5.28904378]))"
      ]
     },
     "execution_count": 71,
     "metadata": {},
     "output_type": "execute_result"
    }
   ],
   "source": [
    "logr.coef_, logr.intercept_"
   ]
  },
  {
   "cell_type": "code",
   "execution_count": 67,
   "metadata": {},
   "outputs": [
    {
     "data": {
      "text/plain": [
       "(710, 246, 464)"
      ]
     },
     "execution_count": 67,
     "metadata": {},
     "output_type": "execute_result"
    }
   ],
   "source": [
    "len(df), len(df[df['diabetes_class']==1]), len(df[df['diabetes_class']==0])"
   ]
  },
  {
   "cell_type": "code",
   "execution_count": 68,
   "metadata": {},
   "outputs": [
    {
     "data": {
      "text/plain": [
       "0.6535211267605634"
      ]
     },
     "execution_count": 68,
     "metadata": {},
     "output_type": "execute_result"
    }
   ],
   "source": [
    "464/710"
   ]
  },
  {
   "cell_type": "code",
   "execution_count": 75,
   "metadata": {},
   "outputs": [],
   "source": [
    "df_prob = pd.DataFrame(logr.predict_proba(X_test), columns = ['NO', 'YES'])"
   ]
  },
  {
   "cell_type": "code",
   "execution_count": 79,
   "metadata": {},
   "outputs": [
    {
     "data": {
      "text/plain": [
       "97"
      ]
     },
     "execution_count": 79,
     "metadata": {},
     "output_type": "execute_result"
    }
   ],
   "source": [
    "sum(df_prob['NO'] > 0.7)"
   ]
  },
  {
   "cell_type": "code",
   "execution_count": 69,
   "metadata": {},
   "outputs": [
    {
     "data": {
      "text/plain": [
       "161"
      ]
     },
     "execution_count": 69,
     "metadata": {},
     "output_type": "execute_result"
    }
   ],
   "source": [
    "sum(y_pred == y_test)"
   ]
  },
  {
   "cell_type": "code",
   "execution_count": 60,
   "metadata": {},
   "outputs": [
    {
     "data": {
      "text/plain": [
       "213"
      ]
     },
     "execution_count": 60,
     "metadata": {},
     "output_type": "execute_result"
    }
   ],
   "source": [
    "len(y_test)"
   ]
  },
  {
   "cell_type": "code",
   "execution_count": 70,
   "metadata": {},
   "outputs": [
    {
     "data": {
      "text/plain": [
       "0.755868544600939"
      ]
     },
     "execution_count": 70,
     "metadata": {},
     "output_type": "execute_result"
    }
   ],
   "source": [
    "161/213"
   ]
  },
  {
   "cell_type": "code",
   "execution_count": 19,
   "metadata": {},
   "outputs": [
    {
     "data": {
      "text/plain": [
       "161"
      ]
     },
     "execution_count": 19,
     "metadata": {},
     "output_type": "execute_result"
    }
   ],
   "source": [
    "sum(y_pred == y_test)"
   ]
  },
  {
   "cell_type": "code",
   "execution_count": 20,
   "metadata": {},
   "outputs": [
    {
     "data": {
      "text/plain": [
       "213"
      ]
     },
     "execution_count": 20,
     "metadata": {},
     "output_type": "execute_result"
    }
   ],
   "source": [
    "len(y_pred)"
   ]
  },
  {
   "cell_type": "markdown",
   "metadata": {},
   "source": [
    "- load diabetes data set"
   ]
  },
  {
   "cell_type": "code",
   "execution_count": 2,
   "metadata": {},
   "outputs": [],
   "source": [
    "df = pd.read_csv('diabetes_data_train_710samples.csv')"
   ]
  },
  {
   "cell_type": "code",
   "execution_count": 3,
   "metadata": {},
   "outputs": [
    {
     "data": {
      "text/html": [
       "<div>\n",
       "<style scoped>\n",
       "    .dataframe tbody tr th:only-of-type {\n",
       "        vertical-align: middle;\n",
       "    }\n",
       "\n",
       "    .dataframe tbody tr th {\n",
       "        vertical-align: top;\n",
       "    }\n",
       "\n",
       "    .dataframe thead th {\n",
       "        text-align: right;\n",
       "    }\n",
       "</style>\n",
       "<table border=\"1\" class=\"dataframe\">\n",
       "  <thead>\n",
       "    <tr style=\"text-align: right;\">\n",
       "      <th></th>\n",
       "      <th>Row</th>\n",
       "      <th>preg_count</th>\n",
       "      <th>glucose_concentration</th>\n",
       "      <th>diastolic_bp</th>\n",
       "      <th>triceps_skin_fold_thickness</th>\n",
       "      <th>two_hr_serum_insulin</th>\n",
       "      <th>bmi</th>\n",
       "      <th>diabetes_pedi</th>\n",
       "      <th>age</th>\n",
       "      <th>diabetes_class</th>\n",
       "    </tr>\n",
       "  </thead>\n",
       "  <tbody>\n",
       "    <tr>\n",
       "      <th>0</th>\n",
       "      <td>0</td>\n",
       "      <td>6</td>\n",
       "      <td>148</td>\n",
       "      <td>72</td>\n",
       "      <td>35</td>\n",
       "      <td>0</td>\n",
       "      <td>33.6</td>\n",
       "      <td>0.627</td>\n",
       "      <td>50</td>\n",
       "      <td>1</td>\n",
       "    </tr>\n",
       "    <tr>\n",
       "      <th>1</th>\n",
       "      <td>1</td>\n",
       "      <td>1</td>\n",
       "      <td>85</td>\n",
       "      <td>66</td>\n",
       "      <td>29</td>\n",
       "      <td>0</td>\n",
       "      <td>26.6</td>\n",
       "      <td>0.351</td>\n",
       "      <td>31</td>\n",
       "      <td>0</td>\n",
       "    </tr>\n",
       "    <tr>\n",
       "      <th>2</th>\n",
       "      <td>2</td>\n",
       "      <td>8</td>\n",
       "      <td>183</td>\n",
       "      <td>64</td>\n",
       "      <td>0</td>\n",
       "      <td>0</td>\n",
       "      <td>23.3</td>\n",
       "      <td>0.672</td>\n",
       "      <td>32</td>\n",
       "      <td>1</td>\n",
       "    </tr>\n",
       "  </tbody>\n",
       "</table>\n",
       "</div>"
      ],
      "text/plain": [
       "   Row  preg_count  glucose_concentration  diastolic_bp  \\\n",
       "0    0           6                    148            72   \n",
       "1    1           1                     85            66   \n",
       "2    2           8                    183            64   \n",
       "\n",
       "   triceps_skin_fold_thickness  two_hr_serum_insulin   bmi  diabetes_pedi  \\\n",
       "0                           35                     0  33.6          0.627   \n",
       "1                           29                     0  26.6          0.351   \n",
       "2                            0                     0  23.3          0.672   \n",
       "\n",
       "   age  diabetes_class  \n",
       "0   50               1  \n",
       "1   31               0  \n",
       "2   32               1  "
      ]
     },
     "execution_count": 3,
     "metadata": {},
     "output_type": "execute_result"
    }
   ],
   "source": [
    "df.head(3)"
   ]
  },
  {
   "cell_type": "code",
   "execution_count": 31,
   "metadata": {},
   "outputs": [
    {
     "data": {
      "text/html": [
       "<div>\n",
       "<style scoped>\n",
       "    .dataframe tbody tr th:only-of-type {\n",
       "        vertical-align: middle;\n",
       "    }\n",
       "\n",
       "    .dataframe tbody tr th {\n",
       "        vertical-align: top;\n",
       "    }\n",
       "\n",
       "    .dataframe thead th {\n",
       "        text-align: right;\n",
       "    }\n",
       "</style>\n",
       "<table border=\"1\" class=\"dataframe\">\n",
       "  <thead>\n",
       "    <tr style=\"text-align: right;\">\n",
       "      <th></th>\n",
       "      <th>Row</th>\n",
       "      <th>preg_count</th>\n",
       "      <th>glucose_concentration</th>\n",
       "      <th>diastolic_bp</th>\n",
       "      <th>triceps_skin_fold_thickness</th>\n",
       "      <th>two_hr_serum_insulin</th>\n",
       "      <th>bmi</th>\n",
       "      <th>diabetes_pedi</th>\n",
       "      <th>age</th>\n",
       "      <th>diabetes_class</th>\n",
       "    </tr>\n",
       "  </thead>\n",
       "  <tbody>\n",
       "    <tr>\n",
       "      <th>Row</th>\n",
       "      <td>1.000000</td>\n",
       "      <td>-0.049529</td>\n",
       "      <td>-0.003177</td>\n",
       "      <td>-0.011381</td>\n",
       "      <td>0.003161</td>\n",
       "      <td>0.005083</td>\n",
       "      <td>-0.012753</td>\n",
       "      <td>-0.030718</td>\n",
       "      <td>-0.007847</td>\n",
       "      <td>-0.063441</td>\n",
       "    </tr>\n",
       "    <tr>\n",
       "      <th>preg_count</th>\n",
       "      <td>-0.049529</td>\n",
       "      <td>1.000000</td>\n",
       "      <td>0.137212</td>\n",
       "      <td>0.142042</td>\n",
       "      <td>-0.096404</td>\n",
       "      <td>-0.069093</td>\n",
       "      <td>0.020589</td>\n",
       "      <td>-0.048586</td>\n",
       "      <td>0.546881</td>\n",
       "      <td>0.230506</td>\n",
       "    </tr>\n",
       "    <tr>\n",
       "      <th>glucose_concentration</th>\n",
       "      <td>-0.003177</td>\n",
       "      <td>0.137212</td>\n",
       "      <td>1.000000</td>\n",
       "      <td>0.146026</td>\n",
       "      <td>0.055279</td>\n",
       "      <td>0.327807</td>\n",
       "      <td>0.220797</td>\n",
       "      <td>0.139026</td>\n",
       "      <td>0.277794</td>\n",
       "      <td>0.458086</td>\n",
       "    </tr>\n",
       "    <tr>\n",
       "      <th>diastolic_bp</th>\n",
       "      <td>-0.011381</td>\n",
       "      <td>0.142042</td>\n",
       "      <td>0.146026</td>\n",
       "      <td>1.000000</td>\n",
       "      <td>0.211979</td>\n",
       "      <td>0.101921</td>\n",
       "      <td>0.279390</td>\n",
       "      <td>0.040030</td>\n",
       "      <td>0.237515</td>\n",
       "      <td>0.058391</td>\n",
       "    </tr>\n",
       "    <tr>\n",
       "      <th>triceps_skin_fold_thickness</th>\n",
       "      <td>0.003161</td>\n",
       "      <td>-0.096404</td>\n",
       "      <td>0.055279</td>\n",
       "      <td>0.211979</td>\n",
       "      <td>1.000000</td>\n",
       "      <td>0.440467</td>\n",
       "      <td>0.385673</td>\n",
       "      <td>0.181029</td>\n",
       "      <td>-0.116000</td>\n",
       "      <td>0.084880</td>\n",
       "    </tr>\n",
       "    <tr>\n",
       "      <th>two_hr_serum_insulin</th>\n",
       "      <td>0.005083</td>\n",
       "      <td>-0.069093</td>\n",
       "      <td>0.327807</td>\n",
       "      <td>0.101921</td>\n",
       "      <td>0.440467</td>\n",
       "      <td>1.000000</td>\n",
       "      <td>0.200392</td>\n",
       "      <td>0.189800</td>\n",
       "      <td>-0.026111</td>\n",
       "      <td>0.137614</td>\n",
       "    </tr>\n",
       "    <tr>\n",
       "      <th>bmi</th>\n",
       "      <td>-0.012753</td>\n",
       "      <td>0.020589</td>\n",
       "      <td>0.220797</td>\n",
       "      <td>0.279390</td>\n",
       "      <td>0.385673</td>\n",
       "      <td>0.200392</td>\n",
       "      <td>1.000000</td>\n",
       "      <td>0.138409</td>\n",
       "      <td>0.036475</td>\n",
       "      <td>0.291296</td>\n",
       "    </tr>\n",
       "    <tr>\n",
       "      <th>diabetes_pedi</th>\n",
       "      <td>-0.030718</td>\n",
       "      <td>-0.048586</td>\n",
       "      <td>0.139026</td>\n",
       "      <td>0.040030</td>\n",
       "      <td>0.181029</td>\n",
       "      <td>0.189800</td>\n",
       "      <td>0.138409</td>\n",
       "      <td>1.000000</td>\n",
       "      <td>0.036862</td>\n",
       "      <td>0.172729</td>\n",
       "    </tr>\n",
       "    <tr>\n",
       "      <th>age</th>\n",
       "      <td>-0.007847</td>\n",
       "      <td>0.546881</td>\n",
       "      <td>0.277794</td>\n",
       "      <td>0.237515</td>\n",
       "      <td>-0.116000</td>\n",
       "      <td>-0.026111</td>\n",
       "      <td>0.036475</td>\n",
       "      <td>0.036862</td>\n",
       "      <td>1.000000</td>\n",
       "      <td>0.231088</td>\n",
       "    </tr>\n",
       "    <tr>\n",
       "      <th>diabetes_class</th>\n",
       "      <td>-0.063441</td>\n",
       "      <td>0.230506</td>\n",
       "      <td>0.458086</td>\n",
       "      <td>0.058391</td>\n",
       "      <td>0.084880</td>\n",
       "      <td>0.137614</td>\n",
       "      <td>0.291296</td>\n",
       "      <td>0.172729</td>\n",
       "      <td>0.231088</td>\n",
       "      <td>1.000000</td>\n",
       "    </tr>\n",
       "  </tbody>\n",
       "</table>\n",
       "</div>"
      ],
      "text/plain": [
       "                                  Row  preg_count  glucose_concentration  \\\n",
       "Row                          1.000000   -0.049529              -0.003177   \n",
       "preg_count                  -0.049529    1.000000               0.137212   \n",
       "glucose_concentration       -0.003177    0.137212               1.000000   \n",
       "diastolic_bp                -0.011381    0.142042               0.146026   \n",
       "triceps_skin_fold_thickness  0.003161   -0.096404               0.055279   \n",
       "two_hr_serum_insulin         0.005083   -0.069093               0.327807   \n",
       "bmi                         -0.012753    0.020589               0.220797   \n",
       "diabetes_pedi               -0.030718   -0.048586               0.139026   \n",
       "age                         -0.007847    0.546881               0.277794   \n",
       "diabetes_class              -0.063441    0.230506               0.458086   \n",
       "\n",
       "                             diastolic_bp  triceps_skin_fold_thickness  \\\n",
       "Row                             -0.011381                     0.003161   \n",
       "preg_count                       0.142042                    -0.096404   \n",
       "glucose_concentration            0.146026                     0.055279   \n",
       "diastolic_bp                     1.000000                     0.211979   \n",
       "triceps_skin_fold_thickness      0.211979                     1.000000   \n",
       "two_hr_serum_insulin             0.101921                     0.440467   \n",
       "bmi                              0.279390                     0.385673   \n",
       "diabetes_pedi                    0.040030                     0.181029   \n",
       "age                              0.237515                    -0.116000   \n",
       "diabetes_class                   0.058391                     0.084880   \n",
       "\n",
       "                             two_hr_serum_insulin       bmi  diabetes_pedi  \\\n",
       "Row                                      0.005083 -0.012753      -0.030718   \n",
       "preg_count                              -0.069093  0.020589      -0.048586   \n",
       "glucose_concentration                    0.327807  0.220797       0.139026   \n",
       "diastolic_bp                             0.101921  0.279390       0.040030   \n",
       "triceps_skin_fold_thickness              0.440467  0.385673       0.181029   \n",
       "two_hr_serum_insulin                     1.000000  0.200392       0.189800   \n",
       "bmi                                      0.200392  1.000000       0.138409   \n",
       "diabetes_pedi                            0.189800  0.138409       1.000000   \n",
       "age                                     -0.026111  0.036475       0.036862   \n",
       "diabetes_class                           0.137614  0.291296       0.172729   \n",
       "\n",
       "                                  age  diabetes_class  \n",
       "Row                         -0.007847       -0.063441  \n",
       "preg_count                   0.546881        0.230506  \n",
       "glucose_concentration        0.277794        0.458086  \n",
       "diastolic_bp                 0.237515        0.058391  \n",
       "triceps_skin_fold_thickness -0.116000        0.084880  \n",
       "two_hr_serum_insulin        -0.026111        0.137614  \n",
       "bmi                          0.036475        0.291296  \n",
       "diabetes_pedi                0.036862        0.172729  \n",
       "age                          1.000000        0.231088  \n",
       "diabetes_class               0.231088        1.000000  "
      ]
     },
     "execution_count": 31,
     "metadata": {},
     "output_type": "execute_result"
    }
   ],
   "source": [
    "df.corr()"
   ]
  },
  {
   "cell_type": "code",
   "execution_count": 4,
   "metadata": {},
   "outputs": [
    {
     "data": {
      "text/plain": [
       "Index(['Row', 'preg_count', 'glucose_concentration', 'diastolic_bp',\n",
       "       'triceps_skin_fold_thickness', 'two_hr_serum_insulin', 'bmi',\n",
       "       'diabetes_pedi', 'age', 'diabetes_class'],\n",
       "      dtype='object')"
      ]
     },
     "execution_count": 4,
     "metadata": {},
     "output_type": "execute_result"
    }
   ],
   "source": [
    "df.columns"
   ]
  },
  {
   "cell_type": "markdown",
   "metadata": {},
   "source": [
    "- select features and target"
   ]
  },
  {
   "cell_type": "code",
   "execution_count": 4,
   "metadata": {},
   "outputs": [],
   "source": [
    "X = df[['preg_count', 'glucose_concentration', 'diastolic_bp',\n",
    "       'triceps_skin_fold_thickness', 'two_hr_serum_insulin', 'bmi',\n",
    "       'diabetes_pedi', 'age']]\n",
    "y = df['diabetes_class']"
   ]
  },
  {
   "cell_type": "markdown",
   "metadata": {},
   "source": [
    "- split the data set"
   ]
  },
  {
   "cell_type": "code",
   "execution_count": 5,
   "metadata": {},
   "outputs": [],
   "source": [
    "from sklearn.model_selection import train_test_split\n",
    "X_train, X_test, y_train, y_test = train_test_split(X, y, test_size=0.3, random_state=101)"
   ]
  },
  {
   "cell_type": "markdown",
   "metadata": {},
   "source": [
    "- import LogisticRegression from sklearn.linear_model\n",
    "- create an object\n",
    "- fit"
   ]
  },
  {
   "cell_type": "code",
   "execution_count": 18,
   "metadata": {},
   "outputs": [
    {
     "data": {
      "text/plain": [
       "LogisticRegression(C=1.0, class_weight=None, dual=False, fit_intercept=True,\n",
       "          intercept_scaling=1, max_iter=100, multi_class='ovr', n_jobs=1,\n",
       "          penalty='l2', random_state=None, solver='liblinear', tol=0.0001,\n",
       "          verbose=0, warm_start=False)"
      ]
     },
     "execution_count": 18,
     "metadata": {},
     "output_type": "execute_result"
    }
   ],
   "source": [
    "from sklearn.linear_model import LogisticRegression\n",
    "lr = LogisticRegression()\n",
    "lr.fit(X_train, y_train)"
   ]
  },
  {
   "cell_type": "code",
   "execution_count": 19,
   "metadata": {},
   "outputs": [],
   "source": [
    "import pickle\n",
    "fh = open('diab_pred_dec2.pkl', 'wb')\n",
    "pickle.dump(lr,fh)\n",
    "fh.close()"
   ]
  },
  {
   "cell_type": "code",
   "execution_count": 8,
   "metadata": {},
   "outputs": [
    {
     "data": {
      "text/plain": [
       "(array([[ 1.08255884e-01,  2.65746916e-02, -1.64993845e-02,\n",
       "          2.17468908e-03, -6.66851663e-04,  4.51539755e-02,\n",
       "          7.31051069e-01,  9.16850278e-03]]), array([-5.28904378]))"
      ]
     },
     "execution_count": 8,
     "metadata": {},
     "output_type": "execute_result"
    }
   ],
   "source": [
    "lr.coef_, lr.intercept_"
   ]
  },
  {
   "cell_type": "code",
   "execution_count": 10,
   "metadata": {},
   "outputs": [
    {
     "data": {
      "text/plain": [
       "(213, 497, 213, 497)"
      ]
     },
     "execution_count": 10,
     "metadata": {},
     "output_type": "execute_result"
    }
   ],
   "source": [
    "len(X_test), len(X_train), len(y_test), len(y_train)"
   ]
  },
  {
   "cell_type": "markdown",
   "metadata": {},
   "source": [
    "- predict the value"
   ]
  },
  {
   "cell_type": "code",
   "execution_count": 14,
   "metadata": {},
   "outputs": [],
   "source": [
    "y_pred = lr.predict(X_test)"
   ]
  },
  {
   "cell_type": "code",
   "execution_count": 17,
   "metadata": {},
   "outputs": [
    {
     "data": {
      "text/plain": [
       "(161, 213)"
      ]
     },
     "execution_count": 17,
     "metadata": {},
     "output_type": "execute_result"
    }
   ],
   "source": [
    "sum(y_pred == y_test), len(y_test)"
   ]
  },
  {
   "cell_type": "code",
   "execution_count": 18,
   "metadata": {},
   "outputs": [
    {
     "data": {
      "text/plain": [
       "0.755868544600939"
      ]
     },
     "execution_count": 18,
     "metadata": {},
     "output_type": "execute_result"
    }
   ],
   "source": [
    "161/213"
   ]
  },
  {
   "cell_type": "code",
   "execution_count": 20,
   "metadata": {},
   "outputs": [
    {
     "data": {
      "text/plain": [
       "(464, 710)"
      ]
     },
     "execution_count": 20,
     "metadata": {},
     "output_type": "execute_result"
    }
   ],
   "source": [
    "sum(df['diabetes_class'] == 0), len(df)"
   ]
  },
  {
   "cell_type": "code",
   "execution_count": 21,
   "metadata": {},
   "outputs": [
    {
     "data": {
      "text/plain": [
       "0.6535211267605634"
      ]
     },
     "execution_count": 21,
     "metadata": {},
     "output_type": "execute_result"
    }
   ],
   "source": [
    "464/710"
   ]
  },
  {
   "cell_type": "code",
   "execution_count": 22,
   "metadata": {},
   "outputs": [
    {
     "data": {
      "text/plain": [
       "0.755868544600939"
      ]
     },
     "execution_count": 22,
     "metadata": {},
     "output_type": "execute_result"
    }
   ],
   "source": [
    "lr.score(X_test,y_test)"
   ]
  },
  {
   "cell_type": "code",
   "execution_count": 9,
   "metadata": {},
   "outputs": [],
   "source": [
    "import pickle\n",
    "fh = open('diab_pred.pkl', 'wb')\n",
    "pickle.dump(lr,fh)\n",
    "fh.close()"
   ]
  },
  {
   "cell_type": "markdown",
   "metadata": {},
   "source": [
    "- another metric confusion matrix \n",
    "- import confustion_matrix from sklearn.metrics\n",
    "- tn, fp, fn, tp"
   ]
  },
  {
   "cell_type": "code",
   "execution_count": 23,
   "metadata": {},
   "outputs": [],
   "source": [
    "from sklearn.metrics import confusion_matrix\n",
    "tn, fp, fn, tp = confusion_matrix(y_test, y_pred).ravel()"
   ]
  },
  {
   "cell_type": "code",
   "execution_count": 26,
   "metadata": {},
   "outputs": [
    {
     "data": {
      "text/plain": [
       "array([119,  18,  34,  42], dtype=int64)"
      ]
     },
     "execution_count": 26,
     "metadata": {},
     "output_type": "execute_result"
    }
   ],
   "source": [
    "confusion_matrix(y_test, y_pred).ravel()"
   ]
  },
  {
   "cell_type": "code",
   "execution_count": 27,
   "metadata": {},
   "outputs": [
    {
     "data": {
      "text/plain": [
       "(119, 18, 34, 42)"
      ]
     },
     "execution_count": 27,
     "metadata": {},
     "output_type": "execute_result"
    }
   ],
   "source": [
    "tn, fp, fn, tp"
   ]
  },
  {
   "cell_type": "code",
   "execution_count": 28,
   "metadata": {},
   "outputs": [
    {
     "data": {
      "text/plain": [
       "array([0], dtype=int64)"
      ]
     },
     "execution_count": 28,
     "metadata": {},
     "output_type": "execute_result"
    }
   ],
   "source": [
    "lr.predict([[3,116,94,0,0,25.6,0.201,30]])"
   ]
  },
  {
   "cell_type": "code",
   "execution_count": 29,
   "metadata": {},
   "outputs": [
    {
     "data": {
      "text/plain": [
       "array([[0.86466816, 0.13533184]])"
      ]
     },
     "execution_count": 29,
     "metadata": {},
     "output_type": "execute_result"
    }
   ],
   "source": [
    "lr.predict_proba([[3,116,94,0,0,25.6,0.201,30]])"
   ]
  },
  {
   "cell_type": "markdown",
   "metadata": {},
   "source": [
    "- change threshold by running predict_proba instead of predict"
   ]
  },
  {
   "cell_type": "code",
   "execution_count": 73,
   "metadata": {},
   "outputs": [],
   "source": [
    "y_prob_pred  = lr.predict_proba(X_test)"
   ]
  },
  {
   "cell_type": "code",
   "execution_count": 74,
   "metadata": {},
   "outputs": [
    {
     "name": "stdout",
     "output_type": "stream",
     "text": [
      "[[0.94426142 0.05573858]\n",
      " [0.7538062  0.2461938 ]\n",
      " [0.65688905 0.34311095]\n",
      " [0.90724859 0.09275141]\n",
      " [0.84529674 0.15470326]]\n",
      "[0 0 0 0 0]\n"
     ]
    }
   ],
   "source": [
    "print(y_prob_pred[:5])\n",
    "print(y_pred[:5])\n"
   ]
  },
  {
   "cell_type": "code",
   "execution_count": 76,
   "metadata": {},
   "outputs": [
    {
     "data": {
      "text/plain": [
       "(59, 78, 6, 70)"
      ]
     },
     "execution_count": 76,
     "metadata": {},
     "output_type": "execute_result"
    }
   ],
   "source": [
    "y_my_pred = [ 0 if p < 0.2 else 1 for n,p in y_prob_pred]\n",
    "tn, fp, fn, tp = confusion_matrix(y_test, y_my_pred).ravel()\n",
    "tn,fp,fn,tp"
   ]
  }
 ],
 "metadata": {
  "kernelspec": {
   "display_name": "Python 3",
   "language": "python",
   "name": "python3"
  },
  "language_info": {
   "codemirror_mode": {
    "name": "ipython",
    "version": 3
   },
   "file_extension": ".py",
   "mimetype": "text/x-python",
   "name": "python",
   "nbconvert_exporter": "python",
   "pygments_lexer": "ipython3",
   "version": "3.6.5"
  },
  "varInspector": {
   "cols": {
    "lenName": 16,
    "lenType": 16,
    "lenVar": 40
   },
   "kernels_config": {
    "python": {
     "delete_cmd_postfix": "",
     "delete_cmd_prefix": "del ",
     "library": "var_list.py",
     "varRefreshCmd": "print(var_dic_list())"
    },
    "r": {
     "delete_cmd_postfix": ") ",
     "delete_cmd_prefix": "rm(",
     "library": "var_list.r",
     "varRefreshCmd": "cat(var_dic_list()) "
    }
   },
   "types_to_exclude": [
    "module",
    "function",
    "builtin_function_or_method",
    "instance",
    "_Feature"
   ],
   "window_display": false
  }
 },
 "nbformat": 4,
 "nbformat_minor": 2
}
